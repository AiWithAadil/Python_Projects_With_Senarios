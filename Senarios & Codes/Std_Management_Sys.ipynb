{
 "cells": [
  {
   "cell_type": "markdown",
   "metadata": {},
   "source": [
    "Scenario:\n",
    "\n",
    "Imagine you are a teacher at a local high school. At the end of each semester, you're responsible for assessing and grading your students' performance in three core subjects: Maths, English, and Science. To streamline this process, you've developed a Python program that allows you to input the data for each student, calculate their average score, assign a corresponding grade, and analyze the class's overall performance.\n",
    "\n",
    "As the semester comes to a close, you gather your class roster and sit down with your laptop to run the program. You input the number of students and start entering their names and respective scores in the three subjects. With each entry, the program automatically calculates the student's average score and assigns a grade based on predefined criteria.\n",
    "\n",
    "Once you've inputted all the data, the program presents a neat summary of each student's performance, displaying their average score and grade. This helps you quickly identify high-performing students and those who may need extra support.\n",
    "\n",
    "But the program doesn't stop there. It also provides valuable statistical analysis, giving you insights into the overall performance of the class. You can easily see the class average, the highest and lowest scores, and the distribution of grades among the students.\n",
    "\n",
    "Armed with this comprehensive overview, you can make informed decisions about your teaching strategies, identify areas where the class excelled or struggled, and provide personalized support to each student as needed. This Python program has become an invaluable tool in managing and assessing your students' progress, ensuring they receive the best possible education."
   ]
  },
  {
   "cell_type": "code",
   "execution_count": 1,
   "metadata": {},
   "outputs": [
    {
     "name": "stdout",
     "output_type": "stream",
     "text": [
      "----------------------------------\n",
      "-----------:RESULT:---------------\n",
      "----------------------------------\n",
      "aadil: Average=41.0, Grade=F\n",
      "ameen: Average=44.666666666666664, Grade=F\n",
      "\n",
      "Statistical Analysis:\n",
      "Class Average: 42.83333333333333\n",
      "Highest Score: 44.666666666666664\n",
      "Lowest Score: 41.0\n",
      "Grade Distribution: {'A': 0, 'B': 0, 'C': 0, 'D': 0, 'F': 2}\n"
     ]
    }
   ],
   "source": [
    "student_frequency = int(input(\"Enter student frequency:\"))\n",
    "students = {}\n",
    "\n",
    "for frequency in range(student_frequency):\n",
    "    s_name = input(\"Enter your name here:\")\n",
    "    maths = float(input(\"Enter your maths number:\"))\n",
    "    english = float(input(\"Enter your english number:\"))\n",
    "    science = float(input(\"Enter your science number:\"))\n",
    "    all_sum = maths + english + science\n",
    "    average_score = all_sum / 3\n",
    "    students[s_name] = {\"average_score\": average_score}\n",
    "\n",
    "    if average_score >= 90 and average_score <= 100:\n",
    "        grade = \"A\"\n",
    "    elif average_score >= 80 and average_score <= 89:\n",
    "        grade = \"B\"\n",
    "    elif average_score >= 70 and average_score <= 79:\n",
    "        grade = \"C\"\n",
    "    elif average_score >= 60 and average_score <= 69:\n",
    "        grade = \"D\"\n",
    "    else:\n",
    "        grade = \"F\"\n",
    "    students[s_name][\"grade\"] = grade\n",
    "\n",
    "print(\"----------------------------------\")\n",
    "print(\"-----------:RESULT:---------------\")\n",
    "print(\"----------------------------------\")\n",
    "\n",
    "for s_name, data in students.items():\n",
    "    print(f\"{s_name}: Average={data['average_score']}, Grade={data['grade']}\")\n",
    "\n",
    "# Statistical Analysis\n",
    "average_scores = [data['average_score'] for data in students.values()]\n",
    "class_average = sum(average_scores) / len(average_scores)\n",
    "highest_score = max(average_scores)\n",
    "lowest_score = min(average_scores)\n",
    "grade_distribution = {grade: sum(1 for data in students.values() if data['grade'] == grade) for grade in ['A', 'B', 'C', 'D', 'F']}\n",
    "\n",
    "print(\"\\nStatistical Analysis:\")\n",
    "print(f\"Class Average: {class_average}\")\n",
    "print(f\"Highest Score: {highest_score}\")\n",
    "print(f\"Lowest Score: {lowest_score}\")\n",
    "print(\"Grade Distribution:\", grade_distribution)\n",
    "\n",
    "\n",
    "# In this code i manage some data of students on the basis of there result that\n",
    "# who got best percentage on the behave on there all marks on there subjects.\n",
    "# I use alots of python codes like string, integer, input mehthod, for loop and\n",
    "# some other importent things.\n",
    "# When i write this code first i thought that i want to add frequency of student then i will \n",
    "# manage students data with dict then i wrote for loop becouse if i hae 3 student so for loop \n",
    "# manage this then i get some information from student and add there subjects \n",
    "# numbers and then divide with subjects frequncy. Then i use if else elif condition\n",
    "# for grading and in the last part of seniro i wrote some decorated prints for good look\n",
    "# the i print all students data with for loop.\n"
   ]
  }
 ],
 "metadata": {
  "kernelspec": {
   "display_name": "Python 3",
   "language": "python",
   "name": "python3"
  },
  "language_info": {
   "codemirror_mode": {
    "name": "ipython",
    "version": 3
   },
   "file_extension": ".py",
   "mimetype": "text/x-python",
   "name": "python",
   "nbconvert_exporter": "python",
   "pygments_lexer": "ipython3",
   "version": "3.11.5"
  }
 },
 "nbformat": 4,
 "nbformat_minor": 2
}
