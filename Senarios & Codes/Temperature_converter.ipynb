{
 "cells": [
  {
   "cell_type": "markdown",
   "metadata": {},
   "source": [
    "Scenario:\n",
    "\n",
    "Imagine you're a student studying abroad in a country where the temperature is measured in Celsius, but you're more accustomed to Fahrenheit. To help you quickly convert temperatures and adapt to the local weather, you've created a handy Temperature Converter program in Python.\n",
    "\n",
    "As you settle into your new environment, you often find yourself needing to convert temperatures between Celsius and Fahrenheit. With your Temperature Converter program, you can easily input a temperature value along with its unit (Celsius or Fahrenheit) and get an instant conversion.\n",
    "\n",
    "Here's how it works:\n",
    "\n",
    "Welcome Message: When you run the program, it greets you with a warm welcome and explains its purpose: to convert temperatures between Celsius and Fahrenheit.\n",
    "\n",
    "Input Prompt: The program prompts you to enter the temperature value followed by its unit, separated by a space. For example, you could input \"25 C\" to convert 25 degrees Celsius or \"70 F\" to convert 70 degrees Fahrenheit.\n",
    "\n",
    "Conversion: Based on your input, the program performs the appropriate conversion using the provided conversion functions: celsius_to_fahrenheit() or fahrenheit_to_celsius(). It then displays the converted temperature in the desired unit.\n",
    "\n",
    "Continuation: After displaying the conversion result, the program asks if you'd like to try another conversion. If you do, you can input another temperature. If not, the program bids you farewell.\n",
    "\n",
    "With this Temperature Converter program at your fingertips, you can easily adapt to the local climate and confidently plan your activities, whether it's exploring the city or enjoying outdoor adventures."
   ]
  },
  {
   "cell_type": "code",
   "execution_count": 4,
   "metadata": {},
   "outputs": [
    {
     "name": "stdout",
     "output_type": "stream",
     "text": [
      "Welcome to the Temperature Converter!\n",
      "This program allows you to convert temperatures between Celsius and Fahrenheit.\n",
      "45.0 degrees Fahrenheit is equal to 7.222222222222222 degrees Celsius.\n",
      "Thank you for using the Temperature Converter. Goodbye!\n"
     ]
    }
   ],
   "source": [
    "def celsius_to_fahrenheit(celsius):\n",
    "    return (celsius * 9/5) + 32\n",
    "\n",
    "def fahrenheit_to_celsius(fahrenheit):\n",
    "    return (fahrenheit - 32) * 5/9\n",
    "\n",
    "while True:\n",
    "    print(\"Welcome to the Temperature Converter!\")\n",
    "    print(\"This program allows you to convert temperatures between Celsius and Fahrenheit.\")\n",
    "    \n",
    "    temperature_input = input(\"Enter the temperature value followed by its unit (C or F), separated by a space: \")\n",
    "    temp, unit = temperature_input.split()\n",
    "    temperature = float(temp)\n",
    "\n",
    "    if unit.lower() == \"c\":\n",
    "        convert_c =  celsius_to_fahrenheit(temperature)\n",
    "        print(f\"{temperature} degrees Celsius is equal to {convert_c} degrees Fahrenheit.\")\n",
    "    elif unit.lower() == \"f\":\n",
    "        convert_f = fahrenheit_to_celsius(temperature)\n",
    "        print(f\"{temperature} degrees Fahrenheit is equal to {convert_f} degrees Celsius.\")\n",
    "    else:\n",
    "        print(\"INVALID INPUT\")\n",
    "        continue\n",
    "\n",
    "    choice = input(\"If you want to try another conversion? (yes/no): \").lower()\n",
    "    if choice != 'yes':\n",
    "        print(\"Thank you for using the Temperature Converter. Goodbye!\")\n",
    "        break\n",
    "\n",
    "# In this program i do make  converter which convet the value of  Celsius to Fahrenheit\n",
    "# and Fahrenheit to Celsius.\n",
    "# in this code i use def function to stote values of Celsius and Fahrenheit.\n",
    "# Then i use while loop which run my whole code continues.\n",
    "# In while loop i use input mehthod because for user who input their fav temperature\n",
    "# Then i use if elif and else statement to check user input.\n",
    "# And then end of my program i use choice input to use that if they want try some anothe\n",
    "# temperature so enter tes otherwise no.\n"
   ]
  }
 ],
 "metadata": {
  "kernelspec": {
   "display_name": "Python 3",
   "language": "python",
   "name": "python3"
  },
  "language_info": {
   "codemirror_mode": {
    "name": "ipython",
    "version": 3
   },
   "file_extension": ".py",
   "mimetype": "text/x-python",
   "name": "python",
   "nbconvert_exporter": "python",
   "pygments_lexer": "ipython3",
   "version": "3.11.5"
  }
 },
 "nbformat": 4,
 "nbformat_minor": 2
}
